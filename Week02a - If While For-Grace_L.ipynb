{
 "cells": [
  {
   "cell_type": "markdown",
   "metadata": {
    "slideshow": {
     "slide_type": "slide"
    }
   },
   "source": [
    "## Flow Control\n",
    "\n",
    "A key part of programming is being able to control the flow of how the program executes. There are several ways this can be achieved in Python. Which one to use depends on the problem being solved.\n",
    "\n",
    "The main methods are:\n"
   ]
  },
  {
   "cell_type": "markdown",
   "metadata": {
    "slideshow": {
     "slide_type": "slide"
    }
   },
   "source": [
    "## if\n",
    "\n",
    "    if statement:\n",
    "        execute this code\n",
    "    elif other_statement:\n",
    "        execute this code\n",
    "    else:\n",
    "        execute this code\n",
    "        \n",
    " _if_ statements only run the following code when the statement is true. _elif_ provides additional statements, _else_ catches anything that is not specifically looked for in the _if_ or _elif_ statements."
   ]
  },
  {
   "cell_type": "markdown",
   "metadata": {
    "slideshow": {
     "slide_type": "subslide"
    }
   },
   "source": [
    "### Things to remember 1\n",
    "1. colon after each if, else or elif statement\n",
    "2. Indentation (4 spaces!!! most IDEs will insert these if you use tab...)\n",
    "3. No brackets\n",
    "4. Exclusive conditions\n",
    "5. Only executed once"
   ]
  },
  {
   "cell_type": "markdown",
   "metadata": {
    "slideshow": {
     "slide_type": "subslide"
    }
   },
   "source": [
    "### Things to remember 2\n",
    " - Start with an _if_ statement - you don't need to have any other clause if not needed\n",
    " - You can have as many or as few elif statements as you need\n",
    " - You can have at most one else statement, and only after all other ifs and elifs."
   ]
  },
  {
   "cell_type": "markdown",
   "metadata": {
    "slideshow": {
     "slide_type": "slide"
    }
   },
   "source": [
    "## while\n",
    "\n",
    "    while statement:\n",
    "        execute this code\n",
    "        \n",
    " _while_ statements are used to run code until a certain condition is reached."
   ]
  },
  {
   "cell_type": "code",
   "execution_count": 1,
   "metadata": {
    "slideshow": {
     "slide_type": "subslide"
    }
   },
   "outputs": [
    {
     "name": "stdout",
     "output_type": "stream",
     "text": [
      "0\n",
      "1\n",
      "2\n",
      "3\n",
      "4\n"
     ]
    }
   ],
   "source": [
    "# while example\n",
    "\n",
    "i = 0 # the condition must be initialised\n",
    "while i < 5:\n",
    "    print(i)\n",
    "    i = i + 1 # you must change the counter somehow, or it will evaluate for ever!!!!"
   ]
  },
  {
   "cell_type": "markdown",
   "metadata": {
    "slideshow": {
     "slide_type": "slide"
    }
   },
   "source": [
    "### for\n",
    "\n",
    "_for_ statements provide a method to __iterate__ through something, performing a task during each iteration. A lot of Python data-types are __iterable__, allowing the use of a _for_ statement - strings are iterable!!!\n",
    "\n",
    "Other data-types such as lists and dicts are also iterable - we will come to these.\n"
   ]
  },
  {
   "cell_type": "code",
   "execution_count": 17,
   "metadata": {
    "slideshow": {
     "slide_type": "subslide"
    }
   },
   "outputs": [
    {
     "name": "stdout",
     "output_type": "stream",
     "text": [
      "L\n",
      "i\n",
      "a\n",
      "m\n",
      " \n",
      "G\n",
      "r\n",
      "a\n",
      "c\n",
      "e\n"
     ]
    }
   ],
   "source": [
    "my_name = \"Liam Grace\"\n",
    "\n",
    "for l in my_name:\n",
    "    print(l)"
   ]
  },
  {
   "cell_type": "code",
   "execution_count": 8,
   "metadata": {
    "slideshow": {
     "slide_type": "subslide"
    }
   },
   "outputs": [
    {
     "name": "stdout",
     "output_type": "stream",
     "text": [
      "i\n",
      "m\n",
      "G\n",
      "a\n",
      "e\n"
     ]
    }
   ],
   "source": [
    "# You can use if statements in for clauses....\n",
    "# What's happening here?\n",
    "\n",
    "my_name = \"Liam Grace\"\n",
    "\n",
    "for i,l in enumerate(my_name):\n",
    "    if i%2 == 1: \n",
    "        print(l)"
   ]
  },
  {
   "cell_type": "markdown",
   "metadata": {
    "slideshow": {
     "slide_type": "slide"
    }
   },
   "source": [
    "## Importing modules\n",
    "\n",
    "If you recall from last week, Python is downloaded with a _standard library_ of modules in which thousands of useful code chunks are available to do the most common programming operations. As a programmer, you have the flexibility to use these in whatever way you want to achieve the desired result.\n",
    "\n",
    "A list of the modules in the standard library is available at https://docs.python.org/3.7/library/index.html  \n",
    "\n",
    "Everything outside of _built-in functions and classes_ are accesed via an __import__ statement.\n",
    "\n",
    "Your import statements should, by Pythonic convention, be at the start of your script."
   ]
  },
  {
   "cell_type": "code",
   "execution_count": 3,
   "metadata": {},
   "outputs": [
    {
     "name": "stdout",
     "output_type": "stream",
     "text": [
      "What is your name?Liam Grace\n",
      "r\n"
     ]
    }
   ],
   "source": [
    "import random\n",
    "\n",
    "n = input(\"What is your name?\")\n",
    "\n",
    "print(random.choice(n))"
   ]
  },
  {
   "cell_type": "markdown",
   "metadata": {
    "slideshow": {
     "slide_type": "slide"
    }
   },
   "source": [
    "## Practice:\n",
    "\n",
    "A- Write a program that asks the user for their mark in an exam and tells them if they have passed or not (40% is the pass mark).\n",
    " - Set up a variable with the threshold set to 40\n",
    " - Ask user for value\n",
    " - Compare and display appropriate message\n",
    "\n",
    "B-Modify your code to account for a change in the examination rules that specifies a pass mark to be greater than 55%"
   ]
  },
  {
   "cell_type": "code",
   "execution_count": 12,
   "metadata": {
    "slideshow": {
     "slide_type": "subslide"
    }
   },
   "outputs": [
    {
     "name": "stdout",
     "output_type": "stream",
     "text": [
      "Please enter your exam result41\n"
     ]
    }
   ],
   "source": [
    "# Reorder the lines of code for Part A above...\n",
    "\n"
   ]
  },
  {
   "cell_type": "code",
   "execution_count": 156,
   "metadata": {
    "slideshow": {
     "slide_type": "subslide"
    }
   },
   "outputs": [
    {
     "name": "stdout",
     "output_type": "stream",
     "text": [
      "Please enter your exam result41\n",
      "Congratulations, you passed!!!!\n"
     ]
    }
   ],
   "source": [
    "mark = input(\"Please enter your exam result\")\n",
    "\n",
    "mark = int(mark)\n",
    "threshold = 40\n",
    "\n",
    "if mark >= threshold:\n",
    "    print(\"Congratulations, you passed!!!!\")\n",
    "    \n",
    "else:\n",
    "    print(\"Sorry, you need to repeat this module\")"
   ]
  },
  {
   "cell_type": "code",
   "execution_count": 157,
   "metadata": {
    "slideshow": {
     "slide_type": "subslide"
    }
   },
   "outputs": [
    {
     "name": "stdout",
     "output_type": "stream",
     "text": [
      "Please enter your exam result41\n",
      "Sorry, you need to repeat this module\n"
     ]
    }
   ],
   "source": [
    "mark = input(\"Please enter your exam result\")\n",
    "\n",
    "mark = int(mark)\n",
    "threshold = 55\n",
    "\n",
    "if mark >= threshold:\n",
    "    print(\"Congratulations, you passed!!!!\")\n",
    "    \n",
    "else:\n",
    "    print(\"Sorry, you need to repeat this module\")"
   ]
  },
  {
   "cell_type": "markdown",
   "metadata": {
    "slideshow": {
     "slide_type": "slide"
    }
   },
   "source": [
    "C \n",
    "Write a program that will ask the user their age and return a message that will tell them if they are considered\n",
    "- Under age (<18)\n",
    "- Adult (between 18 and 64)\n",
    "- Retired (over 64)\n",
    "\n",
    "D  \n",
    "Write a program that calculates the shipping cost for a product given the following information:\n",
    "\n",
    "Product Price / Shipping Cost\n",
    "< $50 / $3\n",
    ">= $50 and <= $100 / $5\n",
    "> $100 / $0"
   ]
  },
  {
   "cell_type": "code",
   "execution_count": 24,
   "metadata": {},
   "outputs": [
    {
     "name": "stdout",
     "output_type": "stream",
     "text": [
      "Please enter your age107\n",
      "Retired\n"
     ]
    }
   ],
   "source": [
    "age = input(\"Please enter your age\")\n",
    "\n",
    "age=int(age)\n",
    "\n",
    "if(age)<18:\n",
    "    print(\"Under Age\")\n",
    "    \n",
    "elif(age)>64:\n",
    "    print(\"Retired\")\n",
    "    \n",
    "else:\n",
    "    print(\"Adult\")\n",
    "\n"
   ]
  },
  {
   "cell_type": "code",
   "execution_count": 26,
   "metadata": {},
   "outputs": [
    {
     "name": "stdout",
     "output_type": "stream",
     "text": [
      "Product cost is1000\n",
      "Shipping: Free\n"
     ]
    }
   ],
   "source": [
    "prod_cost = input(\"Product cost is\")\n",
    "\n",
    "prod_cost = int(prod_cost)\n",
    "\n",
    "if(prod_cost)<50:\n",
    "    print(\"Shipping: $3\")\n",
    "    \n",
    "elif(prod_cost)>100:\n",
    "    print(\"Shipping: Free\")\n",
    "    \n",
    "else:\n",
    "    print(\"Shipping: $5\")"
   ]
  },
  {
   "cell_type": "markdown",
   "metadata": {},
   "source": [
    " \n",
    "### Exercises\n",
    "1. The following categories are given to cakes depending on their sugar content:\n",
    " - A sugar>500\n",
    " - B sugar between 300 and 500\n",
    " - C sugar < 300\n",
    "\n",
    "    Write a python program that will categorize a cake when its sugar content is inserted. \n"
   ]
  },
  {
   "cell_type": "code",
   "execution_count": 27,
   "metadata": {},
   "outputs": [
    {
     "name": "stdout",
     "output_type": "stream",
     "text": [
      "Sugar content of cake is:357\n",
      "Cake is Cat B\n"
     ]
    }
   ],
   "source": [
    "sugar_cont = input(\"Sugar content of cake is:\")\n",
    "\n",
    "sugar_cont = int(sugar_cont)\n",
    "\n",
    "if(sugar_cont)<300:\n",
    "    print(\"Cake is Cat C\")\n",
    "    \n",
    "elif(sugar_cont)>500:\n",
    "    print(\"Cake is Cat A\")\n",
    "    \n",
    "else:\n",
    "    print(\"Cake is Cat B\")"
   ]
  },
  {
   "cell_type": "markdown",
   "metadata": {},
   "source": [
    "2. Capture a date as three integer numbers: year, month, day. Say if it is a correct one (month between 1 and 12, day 1-28, 1-30 or 1-31 according to the month, ignore leap years)"
   ]
  },
  {
   "cell_type": "code",
   "execution_count": 55,
   "metadata": {},
   "outputs": [
    {
     "name": "stdout",
     "output_type": "stream",
     "text": [
      "N\n",
      "Y\n"
     ]
    }
   ],
   "source": [
    "m = 13\n",
    "d = 31\n",
    "\n",
    "if m > 12:\n",
    "    print(\"N\")\n",
    "    \n",
    "elif m <= 0:\n",
    "    print(\"N\")\n",
    "    \n",
    "else:\n",
    "    print (\"Y\")\n",
    "    \n",
    "\n",
    "if m == 2 and d> 28:\n",
    "        print(\"N\")\n",
    "        \n",
    "elif m == 4 and d>30:\n",
    "    print(\"N\")\n",
    "\n",
    "elif m == 6 and d>30:\n",
    "    print(\"N\")\n",
    "    \n",
    "elif m == 9 and d>30:\n",
    "    print(\"N\")\n",
    "    \n",
    "elif m == 11 and d>30:\n",
    "    print(\"N\")\n",
    "    \n",
    "elif d <=0:\n",
    "    print(\"N\")\n",
    "    \n",
    "else:\n",
    "    print (\"Y\")\n",
    "\n",
    "#if either function results in an N value, then the date is invalid\n"
   ]
  },
  {
   "cell_type": "markdown",
   "metadata": {},
   "source": [
    "3. Capture two dates as year, month, day. Say which of them precedes the other."
   ]
  },
  {
   "cell_type": "code",
   "execution_count": 59,
   "metadata": {},
   "outputs": [
    {
     "name": "stdout",
     "output_type": "stream",
     "text": [
      "Date 1 earlier\n"
     ]
    }
   ],
   "source": [
    "d1 = 28\n",
    "m1 = 8\n",
    "y1 = 1990\n",
    "\n",
    "d2 = 29\n",
    "m2 = 8\n",
    "y2 = 1990\n",
    "\n",
    "if y2 > y1:\n",
    "    print (\"Date 1 earlier\")\n",
    "elif y2 == y1 and m2> m1:\n",
    "    print (\"Date 1 earlier\")\n",
    "elif y2 == y1 and m2 ==m1 and d2>d1:\n",
    "    print (\"Date 1 earlier\")\n",
    "else:\n",
    "    print (\"Date 2 earlier\")"
   ]
  },
  {
   "cell_type": "markdown",
   "metadata": {},
   "source": [
    "4. Capture a year as integer number. Say if it is a leap year. A year will be a leap year if it is divisible by 4 but not by 100. If a year is divisible by 4 and by 100, it is not a leap year unless it is also divisible by 400.\n",
    "\n",
    "Compare your result with:\n",
    "    import calendar\n",
    "    print calendar.isleap(1999)"
   ]
  },
  {
   "cell_type": "code",
   "execution_count": 106,
   "metadata": {},
   "outputs": [
    {
     "name": "stdout",
     "output_type": "stream",
     "text": [
      "Not leap\n"
     ]
    }
   ],
   "source": [
    "y = 1999\n",
    "\n",
    "if y%4 == 0 and not y%100 ==0:\n",
    "    print(\"leap\")\n",
    "    \n",
    "elif y%400 == 0:\n",
    "    print (\"Leap\")\n",
    "    \n",
    "else:\n",
    "    print (\"Not leap\")\n",
    "   "
   ]
  },
  {
   "cell_type": "code",
   "execution_count": 97,
   "metadata": {},
   "outputs": [
    {
     "name": "stdout",
     "output_type": "stream",
     "text": [
      "False\n"
     ]
    }
   ],
   "source": [
    "import calendar\n",
    "\n",
    "print (calendar.isleap(1700))"
   ]
  },
  {
   "cell_type": "markdown",
   "metadata": {},
   "source": [
    "5. Find the roots of a quadratic equation given the coefficients a, b and c:\n",
    "    Quadratic formula \n",
    "    \n",
    "   $$x=\\frac{-b\\pm \\sqrt{b^2-4ac}}{2a}.$$\n",
    "    \n",
    "    Discriminant= $$b^2-4ac$$\n",
    "\n",
    "    Three possibilities\n",
    "    1. discriminant =0 one real root (-b/2a)\n",
    "    2. discriminant >0 two real roots (-b+discriminant)/2a and (-b-discriminant)/2a\n",
    "    3. discriminant <0 no real roots"
   ]
  },
  {
   "cell_type": "code",
   "execution_count": 165,
   "metadata": {},
   "outputs": [
    {
     "name": "stdout",
     "output_type": "stream",
     "text": [
      "Discriminate: 100\n",
      "Root 1: 3.0\n",
      "Root 2: -7.0\n"
     ]
    }
   ],
   "source": [
    "# ax^2 + bx + c = 0\n",
    "\n",
    "a= 1\n",
    "b= 4\n",
    "c= -21\n",
    "\n",
    "disc = (b**2) - (4*a*c)\n",
    "print (\"Discriminate:\",(disc))\n",
    "\n",
    "if disc == 0:\n",
    "\n",
    "    x = -b/(2*a)\n",
    "    print (\"Root:\",(x))\n",
    "\n",
    "elif disc > 0:\n",
    "    x1=((-b)+(disc)**(0.5))/2*a\n",
    "    print (\"Root 1:\",(x1))\n",
    "    x2=((-b)-(disc)**(0.5))/2*a\n",
    "    print (\"Root 2:\",(x2))\n",
    "    \n",
    "else:\n",
    "    print (\"no real roots\")"
   ]
  },
  {
   "cell_type": "markdown",
   "metadata": {},
   "source": [
    "6. Update your quadratic equation code to generate the values of a , b and c randomly.\n",
    "    Check for 0 values (a cannot be 0)\n",
    "    a, b and c are integers between 0 and 15"
   ]
  },
  {
   "cell_type": "code",
   "execution_count": 183,
   "metadata": {},
   "outputs": [
    {
     "name": "stdout",
     "output_type": "stream",
     "text": [
      "a= 3\n",
      "b= 14\n",
      "c= 4\n",
      "Discriminate: 148\n",
      "Root 1: -2.751712409105342\n",
      "Root 2: -39.248287590894655\n"
     ]
    }
   ],
   "source": [
    "a= random.randint(1,15)\n",
    "b= random.randint(1,15)\n",
    "c= random.randint(1,15)\n",
    "\n",
    "print(\"a=\",(a))\n",
    "print(\"b=\",(b))\n",
    "print(\"c=\",(c))\n",
    "\n",
    "\n",
    "disc = (b**2) - (4*a*c)\n",
    "print (\"Discriminate:\",(disc))\n",
    "\n",
    "if disc == 0:\n",
    "\n",
    "    x = -b/(2*a)\n",
    "    print (\"Root:\",(x))\n",
    "\n",
    "elif disc > 0:\n",
    "    x1=((-b)+(disc)**(0.5))/2*a\n",
    "    print (\"Root 1:\",(x1))\n",
    "    x2=((-b)-(disc)**(0.5))/2*a\n",
    "    print (\"Root 2:\",(x2))\n",
    "    \n",
    "else:\n",
    "    print (\"No real roots\")"
   ]
  },
  {
   "cell_type": "markdown",
   "metadata": {},
   "source": [
    "7. Write a program that generates a pseudorandom number between 1 and 7 and tell the user what day of the week it corresponds to."
   ]
  },
  {
   "cell_type": "code",
   "execution_count": 196,
   "metadata": {},
   "outputs": [
    {
     "name": "stdout",
     "output_type": "stream",
     "text": [
      "1\n",
      "Monday\n"
     ]
    }
   ],
   "source": [
    "d= random.randint(1,7)\n",
    "print (d)\n",
    "\n",
    "if d == 1:\n",
    "    print(\"Monday\")\n",
    "elif d == 2:\n",
    "    print(\"Tuesday\")\n",
    "elif d == 3:\n",
    "    print(\"Wednesday\")\n",
    "elif d == 4:\n",
    "    print(\"Thursday\")\n",
    "elif d == 5:\n",
    "    print(\"Friday\")\n",
    "elif d == 6:\n",
    "    print(\"Saturday\")\n",
    "elif d == 7:\n",
    "    print(\"Sunday\")"
   ]
  },
  {
   "cell_type": "markdown",
   "metadata": {},
   "source": [
    "8. Capture, as a string, a month of the year. Display a message that tells the user whether the month is in Spring, Summer, Autumn or Winter."
   ]
  },
  {
   "cell_type": "code",
   "execution_count": 191,
   "metadata": {},
   "outputs": [
    {
     "name": "stdout",
     "output_type": "stream",
     "text": [
      "Nov\n",
      "is in winter\n"
     ]
    }
   ],
   "source": [
    "month= (\"Jan\",\"Feb\",\"Mar\",\"Apr\",\"May\",\"Jun\",\"Jul\",\"Aug\",\"Sep\",\"Oct\",\"Nov\",\"Dec\")\n",
    "\n",
    "randmonth = (random.choice(month))\n",
    "\n",
    "print (randmonth)\n",
    "\n",
    "   \n",
    "if (randmonth) == (\"Jan\"):\n",
    "        print (\"is in winter\")\n",
    "\n",
    "elif (randmonth) == (\"Feb\"):\n",
    "    print (\"is in spring\")\n",
    "    \n",
    "elif (randmonth) == (\"Mar\"):\n",
    "    print (\"is in spring\")\n",
    "    \n",
    "elif (randmonth) == (\"Apr\"):\n",
    "    print (\"is in spring\")\n",
    "\n",
    "elif (randmonth) == (\"May\"):\n",
    "    print (\"is in summer\")\n",
    "\n",
    "elif (randmonth) == (\"Jun\"):\n",
    "    print (\"is in summer\")\n",
    "    \n",
    "elif (randmonth) == (\"Jul\"):\n",
    "    print (\"is in summer\")\n",
    "    \n",
    "elif (randmonth) == (\"Aug\"):\n",
    "    print (\"is in autumn\")\n",
    "    \n",
    "elif (randmonth) == (\"Sep\"):\n",
    "    print (\"is in autumn\")\n",
    "\n",
    "elif (randmonth) == (\"Oct\"):\n",
    "    print (\"is in autumn\")\n",
    "    \n",
    "elif (randmonth) == (\"Nov\"):\n",
    "    print (\"is in winter\")\n",
    "    \n",
    "elif (randmonth) == (\"Dec\"):\n",
    "    print (\"is in winter\")\n",
    "    \n",
    "\n",
    "\n"
   ]
  },
  {
   "cell_type": "markdown",
   "metadata": {},
   "source": [
    "EXTRA\n",
    "9. Capture three integer numbers and print out the largest of the three numbers."
   ]
  },
  {
   "cell_type": "markdown",
   "metadata": {},
   "source": [
    "10. Capture three integer numbers and print out the appropriate message: “the tree numbers are equal”, “two numbers are equal and the other different”, “the three numbers are different” ."
   ]
  },
  {
   "cell_type": "markdown",
   "metadata": {},
   "source": [
    "11. Capture three integer numbers and say which of the numbers has the smallest value ( the first, the second, the first and the third, the second and the third,…)"
   ]
  },
  {
   "cell_type": "markdown",
   "metadata": {},
   "source": [
    "12. Capture three different integer numbers and print out again the three numbers but in increasing order."
   ]
  },
  {
   "cell_type": "code",
   "execution_count": null,
   "metadata": {},
   "outputs": [],
   "source": []
  }
 ],
 "metadata": {
  "celltoolbar": "Slideshow",
  "kernelspec": {
   "display_name": "Python 3",
   "language": "python",
   "name": "python3"
  },
  "language_info": {
   "codemirror_mode": {
    "name": "ipython",
    "version": 3
   },
   "file_extension": ".py",
   "mimetype": "text/x-python",
   "name": "python",
   "nbconvert_exporter": "python",
   "pygments_lexer": "ipython3",
   "version": "3.7.3"
  }
 },
 "nbformat": 4,
 "nbformat_minor": 2
}
