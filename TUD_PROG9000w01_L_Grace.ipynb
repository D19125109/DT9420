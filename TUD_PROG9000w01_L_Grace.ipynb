{
 "cells": [
  {
   "cell_type": "markdown",
   "metadata": {},
   "source": [
    "# Liam Grace"
   ]
  },
  {
   "cell_type": "markdown",
   "metadata": {},
   "source": [
    "## Introduction\n",
    "I have decided to pursue further studies in GIS as mapping has always been a field I have been interested in. I studied Civil Engineering as an Undergrad in UL, where the surveying and computer modelling topics were the ones that interested me the most. I joined the Defence Forces after graduating, where I now serve as a Captain in the Army Corps of Engineers. I never had many opportunities to study programming or computing, but it is a field I would like to broaden my knowledge in. My hope is that I can take what I have learned here and use it to create GIS based solutions for the specific challeneges faced by members of the Corps of Engineers\n",
    "\n",
    "## Overiview of Python\n",
    "Python is one of the world's most popular programming languages. It has many features that have led to its popularity, but some of the most important ones are:\n",
    "\n",
    "1) It's easy to learn and use\n",
    "This is down to the fact that it's a high level programming language and is more expressive and easier to understand\n",
    "\n",
    "2) It's and interpreted language\n",
    "This means that the interpreted executes the code line by line at a time, making it suitable for beginners and allows for simpler debuggin\n",
    "\n",
    "3) It's cross platform and open source\n",
    "Python works on Linux, Mac and PC, and can be easily used across all operating systems. It's also free to download and has a really active online community where people can share code with each other (source: javapoint.com)\n",
    "\n",
    "Python has however faced difficulties as a programming language. While the fact that it is an interpreted language makes it much easier to learn and use, this also makes it much slower than lower level languages like C++. It also isn't really suitable for mobile development. It's also not really suitable for large databases, as it isn't most secure language (source: www.geeksforgeeks.org)\n",
    "\n",
    "Many of todays online applications are built with Python. Some of the most notable examples are:\n",
    "-Spotify\n",
    "-Netflix\n",
    "-Instagram\n",
    "\n",
    "(source: www.netguru.com)\n",
    "\n",
    "Python is also the prefered language to be used with most GIS applications. According to www.gislounge.com,\n",
    "\n",
    "\"Python has not only been utilized within commercial GIS such as products by Esri but also open source platforms, including as part of QGIS and GRASS. In fact, Python today is by far the most widely used language by GIS users and programmers. Large companies such as Esri have embraced Python because it is a relatively easy language that many users have fully accepted.\"\n",
    "\n",
    "The two main types of data used in GIS tasks are vector data, and raster data. Vector data relates to points in space with an x and a y co-ordinate, sometimes a z co-ordinate if height also needs to be taken into account. These can be joined together to make lines, polygons and areas. Raster data refers to dividing a field into small pixels, and giving each one an attribute based on it's location in the grid (source: www.gitta.info)\n",
    "\n",
    "Programming offers significant advantages to GIS users. Firstly, it makes GIS tasks much easier, as it's only necessary to write a script once, make sure it works and then automate the task. Secondly, it makes completing the task much quicker, as the computer will be able to complete the task much quicker than the user pointing and clicking. Lastly, it will be much more accurate, as there is no scope for variations that could occur in accuracy due to the user inputting repetitive data over time. An example I discovered was from a Environmental Scientist working in Yellowstone National Park that was studying the paths of predators through the park. He automated the process using statistical methods to create random animal track patterns and a sampling scheme, and then calculating the number of intersections to see how the population might vary over time (http://millermountain.com/geospatialblog/2017/05/15/coding-for-gis-professionals/)"
   ]
  },
  {
   "cell_type": "markdown",
   "metadata": {},
   "source": [
    "# Exercise 1\n",
    "\n",
    "Before starting, make a copy of this file and save it as \n",
    "> TUD_PROG9000w01_First-initial_Surname\n",
    "\n",
    "If we wanted to perform some more complicated procedure, we can build the process from these blocks. For example, to get the distance between two points A and B with co-ordinates (1,2) and (3,4) respectively, we can use the formula for the Euclidean distance:\n",
    "$$ d = \\sqrt{(x_2 - x_1)^2 + (y_2 - y_1)^2} $$\n",
    "\n",
    "\n",
    "Give this a try now. The answer you need to get is 2.8284271247461903\n",
    "\n",
    "Steps in doing this:\n",
    " - assign values to variables `x1 = 1` etc.\n",
    " \n",
    " - write the formula starting with the inside and working out\n",
    " \n",
    " - run the piece of code (click run button or ctrl-enter)\n",
    " \n",
    " I've helped you out by filling out some of the code."
   ]
  },
  {
   "cell_type": "code",
   "execution_count": 34,
   "metadata": {},
   "outputs": [
    {
     "name": "stdout",
     "output_type": "stream",
     "text": [
      "2.8284271247461903\n"
     ]
    }
   ],
   "source": [
    "# assign values to variables\n",
    "x1 = 1\n",
    "x2 = 3\n",
    "y1 = 2\n",
    "y2 = 4\n",
    "\n",
    "# write formula\n",
    "d = ((x2 - x1)**2 + (y2 - y1)**2)**0.5\n",
    "\n",
    "# output the answer \n",
    "# note we convert the numeric d to a string before \n",
    "# output with the str() function\n",
    "\n",
    "print(str(d))"
   ]
  },
  {
   "cell_type": "markdown",
   "metadata": {},
   "source": [
    "***"
   ]
  },
  {
   "cell_type": "markdown",
   "metadata": {},
   "source": [
    "***"
   ]
  },
  {
   "cell_type": "markdown",
   "metadata": {},
   "source": [
    "# Exercise 2\n",
    "Let's write a simple program to output the number of days in each month. I've put most of the code in, you fill in the rest."
   ]
  },
  {
   "cell_type": "code",
   "execution_count": 31,
   "metadata": {},
   "outputs": [
    {
     "name": "stdout",
     "output_type": "stream",
     "text": [
      "Please enter the numeric value of the month 6\n",
      "Month: 6\n"
     ]
    }
   ],
   "source": [
    "month = input(\"Please enter the numeric value of the month \")\n",
    "\n",
    "print(\"Month:\",month)"
   ]
  },
  {
   "cell_type": "code",
   "execution_count": 32,
   "metadata": {},
   "outputs": [
    {
     "name": "stdout",
     "output_type": "stream",
     "text": [
      "30\n"
     ]
    }
   ],
   "source": [
    "if (month == \"2\"):\n",
    "    print(\"28 or sometimes 29\")\n",
    "elif month == \"9\":\n",
    "    print(\"30\")\n",
    "elif month == \"4\":\n",
    "    print(\"30\")\n",
    "elif month == \"6\":\n",
    "    print(\"30\")\n",
    "elif month == \"9\":\n",
    "    print(\"30\")\n",
    "else:\n",
    "    print(\"31\")\n",
    "    \n",
    "\n"
   ]
  },
  {
   "cell_type": "code",
   "execution_count": 33,
   "metadata": {},
   "outputs": [
    {
     "data": {
      "text/plain": [
       "str"
      ]
     },
     "execution_count": 33,
     "metadata": {},
     "output_type": "execute_result"
    }
   ],
   "source": [
    "type(month)"
   ]
  },
  {
   "cell_type": "markdown",
   "metadata": {},
   "source": [
    "## Further Exercises"
   ]
  },
  {
   "cell_type": "markdown",
   "metadata": {},
   "source": [
    "Let's write a few simple programs.\n",
    "\n",
    " - Geometry\n",
    "     - calculate the volume of a sphere with radius 20mm.  \n",
    "        - Formula for sphere volume is $$ 4/3.\\Pi.r^3$$  \n",
    "        - Output the result with a nice message.\n",
    "     - allow the user to enter a radius for the above program and output the result.\n",
    "     - calculate the volume of a cylinder, allowing the user to input the height and radius, and then print the output with a nice message.\n",
    "     - calculate the volume of a cone, allowing the user to input the height and radius, and then print the output with a nice message.\n",
    " \n",
    " (Do nice outputs for all the below also...)\n",
    " - calculate the fuel efficiency achieved on a journey, allowing the user to input the distance travelled and the amount of fuel used.\n",
    " \n",
    " - Currency Exchange\n",
    "     - create a Fahrenheit to Celsius converter, with user input\n",
    "     - create a Celsius to Fahrenheit converter, with user input\n",
    "     - combine the calculators into one, and allow the user to choose which conversion to do (hint: you'll need to use an if statement).\n",
    " "
   ]
  },
  {
   "cell_type": "markdown",
   "metadata": {},
   "source": [
    "***"
   ]
  },
  {
   "cell_type": "markdown",
   "metadata": {},
   "source": [
    "## For Next Week....\n",
    "\n",
    " - Read Intro and Chapter 1, Python Basics of “Automate the Boring Stuff” (see resources)\n",
    " - Install Python 3.6, Anaconda on your own machine (if you want.. I can help if there are issues)\n",
    " - Self-directed learning:\n",
    "     - Clear out the unnecessary text and leave only the exercises and your solutions from your own Jupyter file\n",
    "     - Type up an introduction to who you are and why you have chosen to pursue GIS studies/as a career path\n",
    "     - Write three key features of Python that make it one of the most popular languages for programming. What problems has Python faced as a language and ecosystem? What major software/applications are built on Python (name 3 not mentioned already)? What relationship does it have with GIS (not mentioned already)?\n",
    "     - Identify 2 examples of types of data that is useful for a GIS task\n",
    "     - Identify a project that used computer programming to help solve a GIS task (that we wont cover today)\n",
    "     - Save this file as ‘week1.txt’ and upload to your github account (or type / copy and paste into a new file on github directly) in your DT9420 repo.\n",
    "     - Format and sort your Jupyter Notebook into a logical order starting with your introduction"
   ]
  },
  {
   "cell_type": "markdown",
   "metadata": {},
   "source": [
    "# Volume of Sphere V= 4/3 π r^3"
   ]
  },
  {
   "cell_type": "code",
   "execution_count": null,
   "metadata": {},
   "outputs": [],
   "source": [
    "import math"
   ]
  },
  {
   "cell_type": "code",
   "execution_count": 3,
   "metadata": {},
   "outputs": [
    {
     "data": {
      "text/plain": [
       "3.141592653589793"
      ]
     },
     "execution_count": 3,
     "metadata": {},
     "output_type": "execute_result"
    }
   ],
   "source": [
    "math.pi"
   ]
  },
  {
   "cell_type": "code",
   "execution_count": 4,
   "metadata": {},
   "outputs": [
    {
     "name": "stdout",
     "output_type": "stream",
     "text": [
      "Please enter the value of r 20\n",
      "20 mm\n"
     ]
    }
   ],
   "source": [
    "r=input(\"Please enter the value of r \")\n",
    "\n",
    "print((r),\"mm\")"
   ]
  },
  {
   "cell_type": "code",
   "execution_count": 5,
   "metadata": {
    "scrolled": true
   },
   "outputs": [
    {
     "name": "stdout",
     "output_type": "stream",
     "text": [
      "V=  33510.32163829113 mm^3\n"
     ]
    }
   ],
   "source": [
    "vol_sphere=(4/3)*(math.pi)*((int(r))**3)\n",
    "\n",
    "print(\"V= \",(vol_sphere),\"mm^3\")"
   ]
  },
  {
   "cell_type": "markdown",
   "metadata": {},
   "source": [
    "# Volume of Cylinder V = π r^2 h"
   ]
  },
  {
   "cell_type": "code",
   "execution_count": 6,
   "metadata": {},
   "outputs": [
    {
     "name": "stdout",
     "output_type": "stream",
     "text": [
      "Please enter the value of r 30\n",
      "30 mm\n"
     ]
    }
   ],
   "source": [
    "r=input(\"Please enter the value of r \")\n",
    "\n",
    "print((r),\"mm\")"
   ]
  },
  {
   "cell_type": "code",
   "execution_count": 7,
   "metadata": {},
   "outputs": [
    {
     "name": "stdout",
     "output_type": "stream",
     "text": [
      "Please enter the value of h 75\n",
      "75 mm\n"
     ]
    }
   ],
   "source": [
    "h=input(\"Please enter the value of h \")\n",
    "\n",
    "print((h),\"mm\")"
   ]
  },
  {
   "cell_type": "code",
   "execution_count": 8,
   "metadata": {},
   "outputs": [
    {
     "name": "stdout",
     "output_type": "stream",
     "text": [
      "V=  212057.50411731104 mm^3\n"
     ]
    }
   ],
   "source": [
    "vol_cyl=(math.pi)*(int(r)**2)*int(h)\n",
    "\n",
    "print(\"V= \",(vol_cyl),\"mm^3\")"
   ]
  },
  {
   "cell_type": "markdown",
   "metadata": {},
   "source": [
    "# Volume of Cone V=π r^2 h/3"
   ]
  },
  {
   "cell_type": "code",
   "execution_count": 9,
   "metadata": {},
   "outputs": [
    {
     "name": "stdout",
     "output_type": "stream",
     "text": [
      "Please enter the value of r 25\n",
      "25 mm\n"
     ]
    }
   ],
   "source": [
    "r=input(\"Please enter the value of r \")\n",
    "\n",
    "print((r),\"mm\")"
   ]
  },
  {
   "cell_type": "code",
   "execution_count": 10,
   "metadata": {},
   "outputs": [
    {
     "name": "stdout",
     "output_type": "stream",
     "text": [
      "Please enter the value of h 50\n",
      "50 mm\n"
     ]
    }
   ],
   "source": [
    "h=input(\"Please enter the value of h \")\n",
    "\n",
    "print((h),\"mm\")"
   ]
  },
  {
   "cell_type": "code",
   "execution_count": 11,
   "metadata": {},
   "outputs": [
    {
     "name": "stdout",
     "output_type": "stream",
     "text": [
      "V=  32724.92347489368 mm^3\n"
     ]
    }
   ],
   "source": [
    "vol_cone=(math.pi)*(int(r)**2)*(int(h)/3)\n",
    "\n",
    "print(\"V= \",(vol_cone),\"mm^3\")"
   ]
  },
  {
   "cell_type": "markdown",
   "metadata": {},
   "source": [
    "# Fuel Efficiency"
   ]
  },
  {
   "cell_type": "code",
   "execution_count": 13,
   "metadata": {},
   "outputs": [
    {
     "name": "stdout",
     "output_type": "stream",
     "text": [
      "Please enter the make of your car: Mazda\n"
     ]
    }
   ],
   "source": [
    "make=input(\"Please enter the make of your car: \")\n"
   ]
  },
  {
   "cell_type": "code",
   "execution_count": 14,
   "metadata": {},
   "outputs": [
    {
     "name": "stdout",
     "output_type": "stream",
     "text": [
      "Please enter the model of your car: 6\n"
     ]
    }
   ],
   "source": [
    "model=input(\"Please enter the model of your car: \")"
   ]
  },
  {
   "cell_type": "code",
   "execution_count": 17,
   "metadata": {},
   "outputs": [
    {
     "name": "stdout",
     "output_type": "stream",
     "text": [
      "Please enter the distance of your last journey (km): 836\n"
     ]
    }
   ],
   "source": [
    "dist=input(\"Please enter the distance of your last journey (km): \")"
   ]
  },
  {
   "cell_type": "code",
   "execution_count": 19,
   "metadata": {},
   "outputs": [
    {
     "name": "stdout",
     "output_type": "stream",
     "text": [
      "Please enter the amount of fuel consumed (l): 143.24\n"
     ]
    }
   ],
   "source": [
    "fuel=input(\"Please enter the amount of fuel consumed (l): \")"
   ]
  },
  {
   "cell_type": "code",
   "execution_count": 25,
   "metadata": {},
   "outputs": [
    {
     "name": "stdout",
     "output_type": "stream",
     "text": [
      "Fuel Efficiency of Mazda 6 = 17.13397129186603 l/100km\n"
     ]
    }
   ],
   "source": [
    "eff=(float(fuel))/(float(dist))*100\n",
    "\n",
    "print(\"Fuel Efficiency of\",make, model,\"=\",(eff),\"l/100km\")"
   ]
  },
  {
   "cell_type": "markdown",
   "metadata": {},
   "source": [
    "# Temperature Conversion\n",
    "## Farenheit to Celcius"
   ]
  },
  {
   "cell_type": "code",
   "execution_count": 27,
   "metadata": {},
   "outputs": [
    {
     "name": "stdout",
     "output_type": "stream",
     "text": [
      "Temperature in Farenheit: 90\n"
     ]
    }
   ],
   "source": [
    "far=input(\"Temperature in Farenheit: \")"
   ]
  },
  {
   "cell_type": "code",
   "execution_count": 28,
   "metadata": {},
   "outputs": [
    {
     "name": "stdout",
     "output_type": "stream",
     "text": [
      "Temperature in Celcius: 32.22222222222222 oC\n"
     ]
    }
   ],
   "source": [
    "cel=(((int(far)-32)*5)/9)\n",
    "\n",
    "print(\"Temperature in Celcius:\",cel, \"oC\")"
   ]
  },
  {
   "cell_type": "markdown",
   "metadata": {},
   "source": [
    "## Celcius to Farenheit"
   ]
  },
  {
   "cell_type": "code",
   "execution_count": 29,
   "metadata": {},
   "outputs": [
    {
     "name": "stdout",
     "output_type": "stream",
     "text": [
      "Temperature in Celcius: 16\n"
     ]
    }
   ],
   "source": [
    "celc=input(\"Temperature in Celcius: \")"
   ]
  },
  {
   "cell_type": "code",
   "execution_count": 30,
   "metadata": {},
   "outputs": [
    {
     "name": "stdout",
     "output_type": "stream",
     "text": [
      "Temperature in Farenheit: 60.8 oF\n"
     ]
    }
   ],
   "source": [
    "fare=(((int(celc)*9)/5)+32)\n",
    "\n",
    "print(\"Temperature in Farenheit:\",fare, \"oF\")"
   ]
  },
  {
   "cell_type": "code",
   "execution_count": null,
   "metadata": {},
   "outputs": [],
   "source": []
  }
 ],
 "metadata": {
  "kernelspec": {
   "display_name": "Python 3",
   "language": "python",
   "name": "python3"
  },
  "language_info": {
   "codemirror_mode": {
    "name": "ipython",
    "version": 3
   },
   "file_extension": ".py",
   "mimetype": "text/x-python",
   "name": "python",
   "nbconvert_exporter": "python",
   "pygments_lexer": "ipython3",
   "version": "3.7.3"
  }
 },
 "nbformat": 4,
 "nbformat_minor": 1
}
